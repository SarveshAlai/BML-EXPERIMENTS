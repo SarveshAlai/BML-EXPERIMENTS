{
  "nbformat": 4,
  "nbformat_minor": 0,
  "metadata": {
    "colab": {
      "provenance": []
    },
    "kernelspec": {
      "name": "python3",
      "display_name": "Python 3"
    },
    "language_info": {
      "name": "python"
    }
  },
  "cells": [
    {
      "cell_type": "code",
      "execution_count": 6,
      "metadata": {
        "colab": {
          "base_uri": "https://localhost:8080/"
        },
        "id": "pDu9uF6RklGR",
        "outputId": "4101aacb-081d-4aa9-ff37-38286e0b3399"
      },
      "outputs": [
        {
          "output_type": "stream",
          "name": "stdout",
          "text": [
            "Accuracy: 1.0000\n"
          ]
        }
      ],
      "source": [
        "import pandas as pd\n",
        "import numpy as np\n",
        "from sklearn.tree import DecisionTreeClassifier\n",
        "from sklearn.metrics import accuracy_score\n",
        "\n",
        "# Load dataset from UCI ML Repository (example: Iris dataset)\n",
        "url = \"/content/iris[1].data\"\n",
        "columns = ['sepal_length', 'sepal_width', 'petal_length', 'petal_width', 'class']\n",
        "df = pd.read_csv(url, names=columns)\n",
        "\n",
        "# Convert categorical labels to numerical values\n",
        "df['class'] = df['class'].astype('category').cat.codes\n",
        "\n",
        "# Split dataset into features and labels\n",
        "X = df.drop(columns=['class'])\n",
        "y = df['class']\n",
        "\n",
        "# Train Decision Tree model on the entire dataset\n",
        "clf = DecisionTreeClassifier()\n",
        "clf.fit(X, y)\n",
        "\n",
        "# Make predictions on the same dataset\n",
        "y_pred = clf.predict(X)\n",
        "\n",
        "# Calculate accuracy\n",
        "accuracy = accuracy_score(y, y_pred)\n",
        "print(f'Accuracy: {accuracy:.4f}')"
      ]
    }
  ]
}